{
 "cells": [
  {
   "cell_type": "markdown",
   "metadata": {},
   "source": [
    "# Basic Exploratory Data Analysis (EDA)<span class=\"tocSkip\"></span>\n",
    "\n",
    "This notebook will introduce you to the necessary tools for exploring a dataset in Python, and will also guide you through the steps of creating most common charts. It does not require prior Python programming experience, but assumes you have some programming intuition.\n",
    "\n",
    "Use this notebook as a tutorial, that is: read the text and the examples, solve the exercises. Execute all code cells in linear order from the beginning [ press `Shift+Enter` to run a cell ] ."
   ]
  },
  {
   "cell_type": "markdown",
   "metadata": {},
   "source": [
    "<div class=\"alert-info alert\" role=\"alert-info\">  \n",
    "To solve the exercises, write Python code between the **marker lines**,\n",
    "which look like this:\n",
    "</div>\n",
    "\n",
    ">`#//`\n",
    ">    `BEGIN_TODO [Label]` `Description` `(n points)`\n",
    ">\n",
    ">`#//`\n",
    ">    `END_TODO [Label]`\n",
    "\n",
    "<div class=\"alert alert-info\" role=\"alert-info\">\n",
    "Your solutions can be tested automatically by Momotor, if you follow these conventions:\n",
    "<ul>\n",
    "    <li>Do NOT modify or delete these marker lines.  Keep them as they are.</li>\n",
    "    <li>NEVER write code <i>outside</i> the marked blocks. Such code cannot be automatically evaluated.</li>\n",
    "    <li>Work with the provided datasets, without changing their location or their content.</li>\n",
    "</ul>\n",
    "</div>\n",
    "\n",
    "    \n",
    "## How to submit your work\n",
    "\n",
    "1. **Before submitting**, you must run your notebook by doing **Kernel > Restart & Run All**.  \n",
    "   Make sure that your notebook runs without errors **in linear order**.\n",
    "\n",
    "2. Submit the executed notebook with your work\n",
    "   for the appropriate assignment in **Canvas**.\n",
    "\n",
    "* In the **Momotor** tab in Canvas,\n",
    "  you can select that assignment again to find some feedback on your submitted work.\n",
    "  \n",
    "* If there are any problems reported by _Momotor_,\n",
    "  then you might want to fix those,\n",
    "  and **resubmit the fixed notebook**.\n",
    "\n",
    "In case of a high workload on the server\n",
    "(because many students submit in the same time),\n",
    "it may take longer to receive the feedback from Momotor. Do not panic :-) \n"
   ]
  },
  {
   "cell_type": "markdown",
   "metadata": {},
   "source": [
    "# Learning Objectives\n",
    "\n",
    "After reading the explanations and completing the work in this notebook, you should be able to work with Pandas `DataFrame` and `Series` objects; in particular, you will be able to:\n",
    "* create a dataframe from given values or loaded from a CSV file\n",
    "* inspect and modify dataframes\n",
    "* compute summary statistics for a dataframe\n",
    "* visualize dataframes\n"
   ]
  },
  {
   "cell_type": "markdown",
   "metadata": {},
   "source": [
    "# Introduction\n",
    "\n",
    "\n",
    "There are many Python libraries providing solutions for specific data analysis tasks.\n",
    "In this notebook, we will use to the **Pandas** library.\n",
    "The name '_Pandas_' is a contraction of '_Panel Data_',\n",
    "which you can think of as tabular data, like a spreadsheet,\n",
    "with multiple (labeled) rows and columns.\n",
    "\n",
    "The Pandas library is automatically installed when _Anaconda_ is installed.\n",
    "\n",
    "Below you will find several key features of Pandas that help to achieve maximal effect. You might want to learn more - see recommended resources in the Python introduction module on Canvas."
   ]
  },
  {
   "cell_type": "markdown",
   "metadata": {},
   "source": [
    "#### Importing the library\n",
    "\n",
    "In order to use facilities from Pandas, you first need to import the Pandas library.\n",
    "It is useful to import NumPy as well,\n",
    "even though we will not make (much) use of it,\n",
    "since Pandas is built on top of NumPy.\n",
    "\n",
    "The next code cell shows the common way to do these imports,\n",
    "introducing the abbreviations `np` for NumPy and `pd` for Pandas.\n",
    "Execute this code cell (it will not result in any output)."
   ]
  },
  {
   "cell_type": "code",
   "execution_count": null,
   "metadata": {},
   "outputs": [],
   "source": [
    "import numpy as np\n",
    "import pandas as pd"
   ]
  },
  {
   "cell_type": "markdown",
   "metadata": {},
   "source": [
    "## <span class=\"section\">1.</span> Creating, inspecting and modifying Data Frames\n",
    "\n",
    "The most important data type of the Pandas library is **`pd.DataFrame`**.\n",
    "It is a _composite_ data type, whose values are called **data frames**.\n",
    "\n",
    "A data frame is a two-dimensional arrangement of data values. It can be helpful to think of it as a table with rows and columns. \n",
    "The data itself is typically of a primitive data type (`int`, `float`, `bool`, `str`,\n",
    "but also some variants of these as offered by the NumPy library;\n",
    "details are not relevant at this point).\n",
    "\n",
    "Here is an example in which we create a data frame from scratch; we name it `df`.\n",
    "It has\n",
    "\n",
    "* four rows indexed from 0 through 3, and\n",
    "* three columns labeled `'A'`, `'B'`, and `'C'`."
   ]
  },
  {
   "cell_type": "code",
   "execution_count": null,
   "metadata": {},
   "outputs": [],
   "source": [
    "df = pd.DataFrame({'A': [1, 2, 3, 4], 'B': ['one', 'two', 'three', 'four'], 'C': [False, True, False, True]})\n",
    "df"
   ]
  },
  {
   "attachments": {},
   "cell_type": "markdown",
   "metadata": {},
   "source": [
    "The following diagram illustrates some terminology:\n",
    "\n",
    "<img src=\"attachment:DataFrame-terminology.png\" alt=\"DataFrame terminology\" align=\"center\" width=\"400px\">\n",
    "\n",
    "* A **row** is a horizontal selection of data values.\n",
    "* A **column** is a vertical selection of data values.\n",
    "* The **index** provides an identification of the rows.\n",
    "* The **column labels** provide an identification of the columns.\n",
    "\n",
    "Typically, all values in one column have the same type.\n",
    "Values in a row can be of different types."
   ]
  },
  {
   "cell_type": "markdown",
   "metadata": {},
   "source": [
    "### Information about a `DataFrame`\n",
    "\n",
    "The following attributes provide information about the `DataFrame df`.\n",
    "\n",
    "* **`df.shape`** : the number of rows and number of columns\n",
    "* **`df.index`** : the row index\n",
    "* **`df.columns`** : the column labels\n",
    "* **`df.dtype`** : the types of the values in each column"
   ]
  },
  {
   "cell_type": "code",
   "execution_count": null,
   "metadata": {},
   "outputs": [],
   "source": [
    "df.shape"
   ]
  },
  {
   "cell_type": "code",
   "execution_count": null,
   "metadata": {},
   "outputs": [],
   "source": [
    "df.index"
   ]
  },
  {
   "cell_type": "code",
   "execution_count": null,
   "metadata": {},
   "outputs": [],
   "source": [
    "df.columns"
   ]
  },
  {
   "cell_type": "code",
   "execution_count": null,
   "metadata": {},
   "outputs": [],
   "source": [
    "df.dtypes"
   ]
  },
  {
   "cell_type": "markdown",
   "metadata": {},
   "source": [
    "The `DataFrame` function **`info()`** returns\n",
    "an overview of a data frame, including its `RangeIndex`, number of `non-null` elements per column, types of the values in each column, and memory usage:"
   ]
  },
  {
   "cell_type": "code",
   "execution_count": null,
   "metadata": {},
   "outputs": [],
   "source": [
    "df.info()"
   ]
  },
  {
   "cell_type": "markdown",
   "metadata": {},
   "source": [
    "We see that there are 4 rows. There are three columns of data, each containing 4 values of the following types:\n",
    "\n",
    "* column `'A'` contains 64-bit integers\n",
    "* column `'B'` contains generic Python objects\n",
    "> NOTE: A column containing `string` values, or values of different types, will  be assigned the `object` type.\n",
    "* column `'C'` contains boolean values"
   ]
  },
  {
   "cell_type": "markdown",
   "metadata": {},
   "source": [
    "### Exercise <span class=\"exercise\">1.a</span>"
   ]
  },
  {
   "cell_type": "markdown",
   "metadata": {},
   "source": [
    "Suppose we are given the names and years of birth of five persons,"
   ]
  },
  {
   "cell_type": "code",
   "execution_count": null,
   "metadata": {},
   "outputs": [],
   "source": [
    "names = ['Peter', 'Anna', 'Tom', 'John', 'Simone']\n",
    "years = [ 1998, 2002, 1946, 1973, 1962 ]"
   ]
  },
  {
   "cell_type": "markdown",
   "metadata": {},
   "source": [
    "and want to organize this information in a data frame. "
   ]
  },
  {
   "cell_type": "markdown",
   "metadata": {},
   "source": [
    "Create a dataframe `df_years` out of this information containing two columns. One column should be labeled `'Name'` and contain the names, and the other should be labeled `'Year of birth'` and contain the year of birth."
   ]
  },
  {
   "cell_type": "code",
   "execution_count": null,
   "metadata": {},
   "outputs": [],
   "source": [
    "#// BEGIN_TODO [EDA_1a] Create a dataframe (1 point)\n",
    "#// END_TODO [EDA_1a]\n",
    "df_years"
   ]
  },
  {
   "cell_type": "markdown",
   "metadata": {},
   "source": [
    "### `Index` and `Series` objects\n",
    "\n",
    "To understand Pandas data frames better,\n",
    "you should know about two more data types:\n",
    "\n",
    "* **`pd.Index`**:\n",
    "    this is a special type of object that holds the index;\n",
    "    by default, it is just a range of integers starting from 0.\n",
    "* **`pd.Series`**:\n",
    "    this type represents a single named sequence of data values of the same type,\n",
    "    with an index.  \n",
    "    It is used for a single column in a data frame,\n",
    "    but also for a row extracted from a data frame,\n",
    "    where the column labels then serve as the `Series` index,\n",
    "    and the row index serves as the `Series` name.\n",
    "    \n",
    "Thus, a data frame is a sequence of `Series` objects,\n",
    "with a shared `Index` object.\n",
    "The names of the `Series` objects are the column labels."
   ]
  },
  {
   "cell_type": "markdown",
   "metadata": {},
   "source": [
    "Let us again consider the example with the list of names and years of birth"
   ]
  },
  {
   "cell_type": "code",
   "execution_count": null,
   "metadata": {},
   "outputs": [],
   "source": [
    "names = ['Peter', 'Anna', 'Tom', 'John', 'Simone']\n",
    "years = [ 1998, 2002, 1946, 1973, 1962 ]"
   ]
  },
  {
   "cell_type": "markdown",
   "metadata": {},
   "source": [
    "This time, instead of creating a data frame, we create a `Series` object out of the information as follows. The `Series` object itself will contain the years of birth, it will be indexed by the names, and the object will be called `'Years of birth'`. We assign the object to variable `se_years`:"
   ]
  },
  {
   "cell_type": "code",
   "execution_count": null,
   "metadata": {},
   "outputs": [],
   "source": [
    "se_years = pd.Series( years, index=names, name='Years of birth' )\n",
    "se_years"
   ]
  },
  {
   "cell_type": "markdown",
   "metadata": {},
   "source": [
    "### Exercise <span class=\"exercise\">1.b</span>"
   ]
  },
  {
   "cell_type": "markdown",
   "metadata": {},
   "source": [
    "Create a `pd.Series` object containing the following prices (in Euro)"
   ]
  },
  {
   "cell_type": "code",
   "execution_count": null,
   "metadata": {},
   "outputs": [],
   "source": [
    "prices = [2, 1, 3, 2.5, 1.5 ]"
   ]
  },
  {
   "cell_type": "markdown",
   "metadata": {},
   "source": [
    "and indexed by the following items"
   ]
  },
  {
   "cell_type": "code",
   "execution_count": null,
   "metadata": {},
   "outputs": [],
   "source": [
    "items  = ['bread', 'milk', 'chips', 'bananas', 'carrots']"
   ]
  },
  {
   "cell_type": "markdown",
   "metadata": {},
   "source": [
    "The series should be named `'Price (Euro)'`. Assign the resulting series to the variable `se_shopping_list`."
   ]
  },
  {
   "cell_type": "code",
   "execution_count": null,
   "metadata": {},
   "outputs": [],
   "source": [
    "#// BEGIN_TODO [EDA_1b] Create an indexed list (1 point)\n",
    "#// END_TODO [EDA_1b]\n",
    "se_shopping_list"
   ]
  },
  {
   "cell_type": "markdown",
   "metadata": {},
   "source": [
    "### Getting data from a `DataFrame`"
   ]
  },
  {
   "cell_type": "markdown",
   "metadata": {},
   "source": [
    "You can **get a column** from a data frame by indexing, just like a sequence.\n",
    "The result is a `Series` object.\n",
    "This is useful to extract a particular feature from the data set."
   ]
  },
  {
   "cell_type": "code",
   "execution_count": null,
   "metadata": {},
   "outputs": [],
   "source": [
    "df['B']"
   ]
  },
  {
   "cell_type": "markdown",
   "metadata": {},
   "source": [
    "To **get a row** from a data frame,\n",
    "you use the `DataFrame` attribute `loc`.\n",
    "It is called an _indexer attribute_,\n",
    "because it supports indexing\n",
    "with _square brackets_, just like indexing of lists.\n",
    "The result is also a `Series` object:"
   ]
  },
  {
   "cell_type": "code",
   "execution_count": null,
   "metadata": {},
   "outputs": [],
   "source": [
    "df.loc[2]"
   ]
  },
  {
   "cell_type": "markdown",
   "metadata": {},
   "source": [
    "You can **get a value** at a given location in a data frame\n",
    "in several ways:\n",
    "\n",
    "* **`df[column_label][row_index]`** : first get the column,\n",
    "    then get the value from the resulting `Series` object\n",
    "* **`df.loc[row_index, column_label]`** : get the value directly,\n",
    "    using `loc` with the row index and column label"
   ]
  },
  {
   "cell_type": "code",
   "execution_count": null,
   "metadata": {},
   "outputs": [],
   "source": [
    "df['B'][2], df.loc[2, 'B']"
   ]
  },
  {
   "cell_type": "markdown",
   "metadata": {},
   "source": [
    "_Slicing_ can be used to **get larger parts from a data frame**,\n",
    "with a syntax similar to the slicing of lists.\n",
    "\n",
    "> NOTE: When slicing `DataFrame` and `Series` objects\n",
    "> with the syntax `.loc[start:stop]`,\n",
    "> the **`stop` value is included**.  \n",
    "> This contrasts to _list_ slicing, where `stop` is _not_ included.\n",
    "\n",
    "To select a slice of rows,\n",
    "use `.loc[start:stop]`.\n",
    "The result is a (new!) data frame:"
   ]
  },
  {
   "cell_type": "code",
   "execution_count": null,
   "metadata": {},
   "outputs": [],
   "source": [
    "df.loc[1:2]"
   ]
  },
  {
   "cell_type": "markdown",
   "metadata": {},
   "source": [
    "When `start` or `stop` is omitted in the slice `start:stop`,\n",
    "the first or last item is implied. Therefore, `.loc[:]` extracts all rows:"
   ]
  },
  {
   "cell_type": "code",
   "execution_count": null,
   "metadata": {},
   "outputs": [],
   "source": [
    "df.loc[:]"
   ]
  },
  {
   "cell_type": "markdown",
   "metadata": {},
   "source": [
    "The `DataFrame` function call **`df.head(n)`** returns the first `n` rows of the data frame `df`,\n",
    "regardless of how the rows are indexed.\n",
    "The default value for `n` is 5 (i.e. omitting the value in `df.head()` is equivalent to `df.head(5)`)."
   ]
  },
  {
   "cell_type": "code",
   "execution_count": null,
   "metadata": {},
   "outputs": [],
   "source": [
    "df.head(2)"
   ]
  },
  {
   "cell_type": "markdown",
   "metadata": {},
   "source": [
    "You can also apply slicing to the columns:"
   ]
  },
  {
   "cell_type": "code",
   "execution_count": null,
   "metadata": {},
   "outputs": [],
   "source": [
    "df.loc[:, 'A':'B']"
   ]
  },
  {
   "cell_type": "markdown",
   "metadata": {},
   "source": [
    "Note that here the first `:` argument tells to select all the rows.\n",
    "\n",
    "Using `.loc` we can also extract a particular slice of rows and columns in one go:"
   ]
  },
  {
   "cell_type": "code",
   "execution_count": null,
   "metadata": {},
   "outputs": [],
   "source": [
    "df.loc[1:2, 'A':'B']"
   ]
  },
  {
   "cell_type": "markdown",
   "metadata": {},
   "source": [
    "To **get _non-adjacent_ rows**,\n",
    "use `.loc` with a _list of row indices_\n",
    "(note the **double square brackets**).\n",
    "The result is a (new!) data frame:"
   ]
  },
  {
   "cell_type": "code",
   "execution_count": null,
   "metadata": {},
   "outputs": [],
   "source": [
    "df.loc[[1, 3]]"
   ]
  },
  {
   "cell_type": "markdown",
   "metadata": {},
   "source": [
    "You can also **get _non-adjacent_ columns**.\n",
    "One way is by providing a _list of column labels_ directly to the data frame\n",
    "(note the **double square brackets**).\n",
    "The result is a (new!) data frame:"
   ]
  },
  {
   "cell_type": "code",
   "execution_count": null,
   "metadata": {},
   "outputs": [],
   "source": [
    "df[['A', 'C']]"
   ]
  },
  {
   "cell_type": "markdown",
   "metadata": {},
   "source": [
    "An alternative way of getting non-adjacent columns,\n",
    "is to use `.loc` with a _full slice_ for the rows using just '`:`':"
   ]
  },
  {
   "cell_type": "code",
   "execution_count": null,
   "metadata": {},
   "outputs": [],
   "source": [
    "df.loc[:, ['A', 'C']]"
   ]
  },
  {
   "cell_type": "markdown",
   "metadata": {},
   "source": [
    "Note that `df['B']` returns column '`B`' as a `Series` object.\n",
    "Sometimes it is more convenient to get it as a `DataFrame` with one column.\n",
    "This is achieved by using a list with only one element `'B'` as column label\n",
    "(note the **double square brackets**):"
   ]
  },
  {
   "cell_type": "code",
   "execution_count": null,
   "metadata": {},
   "outputs": [],
   "source": [
    "df[['B']]"
   ]
  },
  {
   "cell_type": "markdown",
   "metadata": {},
   "source": [
    "### Exercise <span class=\"exercise\">1.c</span>"
   ]
  },
  {
   "cell_type": "markdown",
   "metadata": {},
   "source": [
    "For the purpose of this exercise, we first organize the information"
   ]
  },
  {
   "cell_type": "code",
   "execution_count": null,
   "metadata": {},
   "outputs": [],
   "source": [
    "prices = [2, 1, 3, 2.5, 1.5 ]\n",
    "items  = ['bread', 'milk', 'chips', 'bananas', 'carrots']"
   ]
  },
  {
   "cell_type": "markdown",
   "metadata": {},
   "source": [
    "into a data frame called `df_shopping_list`"
   ]
  },
  {
   "cell_type": "code",
   "execution_count": null,
   "metadata": {},
   "outputs": [],
   "source": [
    "df_shopping_list = pd.DataFrame( { 'Item': items, 'Price (Euro)': prices } )\n",
    "df_shopping_list"
   ]
  },
  {
   "cell_type": "markdown",
   "metadata": {},
   "source": [
    "Create a _new_ data frame containing the first four rows from `df_shopping_list` and assign it to `df_short_list`."
   ]
  },
  {
   "cell_type": "code",
   "execution_count": null,
   "metadata": {},
   "outputs": [],
   "source": [
    "#// BEGIN_TODO [EDA_1c] Select first rows (1 point)\n",
    "#// END_TODO [EDA_1c]\n",
    "\n",
    "df_short_list"
   ]
  },
  {
   "cell_type": "markdown",
   "metadata": {},
   "source": [
    "### Exercise <span class=\"exercise\">1.d</span>\n",
    "\n",
    "Use an expression to select the prices from the rows with indices 2 to 4 (including 4), but now make sure the result is a data frame. "
   ]
  },
  {
   "cell_type": "code",
   "execution_count": null,
   "metadata": {},
   "outputs": [],
   "source": [
    "#// BEGIN_TODO [EDA_1d] Select rows _and_ columns (1 point)\n",
    "#// END_TODO [EDA_1d]"
   ]
  },
  {
   "cell_type": "markdown",
   "metadata": {},
   "source": [
    "### Modifying a `DataFrame`\n",
    "\n",
    "`DataFrame` objects are _mutable_.\n",
    "In this lesson we will only present two very basic ways of modifying a `DataFrame` object."
   ]
  },
  {
   "cell_type": "markdown",
   "metadata": {},
   "source": [
    "To change a value at a particular location of a data frame `df`,\n",
    "you can use an assignment to the selected item:\n",
    "```python\n",
    "df.loc[row, column] = expression\n",
    "```"
   ]
  },
  {
   "cell_type": "code",
   "execution_count": null,
   "metadata": {},
   "outputs": [],
   "source": [
    "df.loc[0, 'B'] = 'ACE'\n",
    "df"
   ]
  },
  {
   "cell_type": "markdown",
   "metadata": {},
   "source": [
    "Modifying values in data frame _slices_ is a little bit cumbersome.\n",
    "\n",
    "> **IMPORTANT:** For reasons outside the scope of this course, if you want to operate on slices, it is recommended to **explicitly create a copy** of the slice.\n",
    "\n",
    "For example, let us take a look at the `df` data frame again:"
   ]
  },
  {
   "cell_type": "code",
   "execution_count": null,
   "metadata": {},
   "outputs": [],
   "source": [
    "df"
   ]
  },
  {
   "cell_type": "markdown",
   "metadata": {},
   "source": [
    "If we take a slice of the `df` data frame:"
   ]
  },
  {
   "cell_type": "code",
   "execution_count": null,
   "metadata": {},
   "outputs": [],
   "source": [
    "df_slice = df.loc[1:2].copy()\n",
    "df_slice"
   ]
  },
  {
   "cell_type": "markdown",
   "metadata": {},
   "source": [
    "and modify the values in the first row of the slice:"
   ]
  },
  {
   "cell_type": "code",
   "execution_count": null,
   "metadata": {},
   "outputs": [],
   "source": [
    "df_slice.loc[1, 'A'] = 8\n",
    "df_slice.loc[1, 'B'] = \"EIGHT\"\n",
    "df_slice"
   ]
  },
  {
   "cell_type": "markdown",
   "metadata": {},
   "source": [
    "the original data frame will not be affected:"
   ]
  },
  {
   "cell_type": "code",
   "execution_count": null,
   "metadata": {},
   "outputs": [],
   "source": [
    "df"
   ]
  },
  {
   "cell_type": "markdown",
   "metadata": {},
   "source": [
    "### Exercise <span class=\"exercise\">1.e</span>\n",
    "\n",
    "Let us continue with the shopping list example:"
   ]
  },
  {
   "cell_type": "code",
   "execution_count": null,
   "metadata": {
    "scrolled": true
   },
   "outputs": [],
   "source": [
    "prices = [2, 1, 3, 2.5, 1.5 ]\n",
    "items  = ['bread', 'milk', 'chips', 'bananas', 'carrots']\n",
    "df_shopping_list = pd.DataFrame( { 'Item': items, 'Price (Euro)': prices } )\n",
    "df_shopping_list"
   ]
  },
  {
   "cell_type": "markdown",
   "metadata": {},
   "source": [
    "Create a shorter shopping list by taking the rows 0 to 2 from the `df_shopping_list` and assign it to `df_shorter_list`. Change in `df_shorter_list` the price of chips to 2.7 Euro, making sure that the original `df_shopping_list` is not affected."
   ]
  },
  {
   "cell_type": "code",
   "execution_count": null,
   "metadata": {},
   "outputs": [],
   "source": [
    "#// BEGIN_TODO [EDA_1e] A new shorter list (1 point)\n",
    "#// END_TODO [EDA_1e]\n",
    "\n",
    "df_shorter_list"
   ]
  },
  {
   "cell_type": "markdown",
   "metadata": {},
   "source": [
    "##  <span class=\"section\">2.</span> Loading a file into a `DataFrame`. Summary statistics"
   ]
  },
  {
   "cell_type": "markdown",
   "metadata": {},
   "source": [
    "The most common format for storing data in a file is the **comma-separated values** (**CSV**) format,\n",
    "usually consisting of:\n",
    "* one header line with column labels,\n",
    "* each row on a line of its own,\n",
    "* commas to separate the fields in each row\n",
    "    (in some cases, you may encounter semicolons or TABs),\n",
    "* strings enclosed in double quotes\n",
    "    (in some case, strings are not enclosed), and\n",
    "* floating-point numbers using a decimal point (not a comma)."
   ]
  },
  {
   "cell_type": "markdown",
   "metadata": {},
   "source": [
    "The example file is named `country-data.csv`. It was adapted from this repository: https://github.com/lorey/list-of-countries. This file is located in the `datasets` directory."
   ]
  },
  {
   "cell_type": "code",
   "execution_count": null,
   "metadata": {},
   "outputs": [],
   "source": [
    "file_countries = './datasets/country-data.csv'"
   ]
  },
  {
   "cell_type": "markdown",
   "metadata": {},
   "source": [
    "We use the function **`pd.read_csv`** to load the data from that file into a `DataFrame`\n",
    "that we will name `country_data`."
   ]
  },
  {
   "cell_type": "code",
   "execution_count": null,
   "metadata": {},
   "outputs": [],
   "source": [
    "country_data = pd.read_csv(file_countries)\n",
    "country_data.head()"
   ]
  },
  {
   "cell_type": "markdown",
   "metadata": {},
   "source": [
    "### Exercise <span class=\"exercise\">2.a</span>\n",
    "\n",
    "Show just the `'name'`, `'area'` and `'population'` columns for the first 10 rows of `country_data`."
   ]
  },
  {
   "cell_type": "code",
   "execution_count": null,
   "metadata": {},
   "outputs": [],
   "source": [
    "#// BEGIN_TODO [EDA_2a] Name, area, and population for first 10 rows (1 point)\n",
    "#// END_TODO [EDA_2a]"
   ]
  },
  {
   "cell_type": "code",
   "execution_count": null,
   "metadata": {
    "scrolled": true
   },
   "outputs": [],
   "source": [
    "country_data.info()"
   ]
  },
  {
   "cell_type": "markdown",
   "metadata": {},
   "source": [
    "We see that there are 251 rows.\n",
    "Therefore, some columns have missing values:\n",
    "\n",
    "* `tld` misses 2 values\n",
    "* `capital` misses 6 values\n",
    "\n",
    "These are the seven columns of data and their types:\n",
    "\n",
    "* `name` (string): country name in English\n",
    "* `alpha_3` (string): 3-letter ISO 3166-1 country code\n",
    "* `tld` (string): top-level domain in Domain Name System\n",
    "* `continent` (string): 2-letter continent code\n",
    "* `capital` (string): capital city in English\n",
    "* `area` (float): area in square kilometer\n",
    "* `population` (integer): population (measurement date/source unclear; cf. https://geonames.org/)"
   ]
  },
  {
   "cell_type": "markdown",
   "metadata": {},
   "source": [
    "### Summary statistics\n",
    "\n",
    "Summary statistics for **numeric columns** in a data frame `df`\n",
    "can be obtained by **`df.describe()`**:"
   ]
  },
  {
   "cell_type": "code",
   "execution_count": null,
   "metadata": {},
   "outputs": [],
   "source": [
    "country_data.describe()"
   ]
  },
  {
   "cell_type": "markdown",
   "metadata": {},
   "source": [
    "To get summary statistics for **all columns** supply the argument **`include='all'`**:"
   ]
  },
  {
   "cell_type": "code",
   "execution_count": null,
   "metadata": {},
   "outputs": [],
   "source": [
    "country_data.describe(include='all')"
   ]
  },
  {
   "cell_type": "markdown",
   "metadata": {},
   "source": [
    "> NOTE: **NaN** stands for **\"Not a Number\"** and represents a **missing value**,\n",
    "> also known as **not available** or **null value**."
   ]
  },
  {
   "cell_type": "markdown",
   "metadata": {},
   "source": [
    "From these summary statistics for the country data, we see that\n",
    "\n",
    "* names and alpha-3 codes are unique (maximum frequency equals 1)\n",
    "* 3 countries share the top-level domain `.gp`\n",
    "* there are 7 continents, and Africa has the most countries (58)\n",
    "* 2 capitals are named Kingston, and there are no other such duplicates"
   ]
  },
  {
   "cell_type": "markdown",
   "metadata": {},
   "source": [
    "### Separate statistics\n",
    "\n",
    "There are also functions to obtain separate statistics for `DataFrame df`:\n",
    "\n",
    "* **`df.count()`** : Return the **number** of values\n",
    "* **`df.sum()`** : Return the **sum** of the values\n",
    "* **`df.mean()`** : Return the **mean** of the values\n",
    "* **`df.std()`** : Return the **sample standard deviation** of the numeric values,\n",
    "    normalized by $N-1$, where $N$ is the number of values\n",
    "* **`df.min()`** : Return the **minimum** of the values\n",
    "* **`df.max()`** : Return the **maximum** of the values\n",
    "* **`df.median()`** : Return the **median** of the values\n",
    "* **`df.quantile(q)`** : Return the value at the given **percentile** `q`;\n",
    "    `q=0.5` is default, giving the **median**\n",
    "\n",
    "Notes:\n",
    "\n",
    "* **NaN/null values** are skipped by default.\n",
    "* If the data frame has more than one column with relevant data,\n",
    "    then a `Series` object is returned with the statistic for each column."
   ]
  },
  {
   "cell_type": "markdown",
   "metadata": {},
   "source": [
    "Let's compute the total _area_ and _population_:"
   ]
  },
  {
   "cell_type": "code",
   "execution_count": null,
   "metadata": {},
   "outputs": [],
   "source": [
    "country_data[['area', 'population']].sum()"
   ]
  },
  {
   "cell_type": "markdown",
   "metadata": {},
   "source": [
    "## <span class=\"section\">3.</span> Manipulating a `DataFrame`\n",
    "\n",
    "### Sorting\n",
    "To sort a data frame `df` by the values in column `'c'` use **`df.sort_values(by='c')`**.\n",
    "Note that this does not modify the data frame,\n",
    "but rather returns a new data frame. To sort in **descending order**, supply the argument **`ascending=False`**.\n",
    "<br>A series is sorted by the same function,\n",
    "but it does not need the `by` argument.\n",
    "\n",
    "Here is the country data sorted by decreasing area:"
   ]
  },
  {
   "cell_type": "code",
   "execution_count": null,
   "metadata": {},
   "outputs": [],
   "source": [
    "country_data.sort_values(by='area', ascending=False)"
   ]
  },
  {
   "cell_type": "markdown",
   "metadata": {},
   "source": [
    "> A data frame can be **sorted in place**,\n",
    "> that is, the data frame is modified,\n",
    "> rather than returning a new data frame.\n",
    "> This is achieved by supplying the argument **`inplace=True`**,\n",
    "> but is not recommended (rather, assign the result to a new variable)."
   ]
  },
  {
   "cell_type": "markdown",
   "metadata": {},
   "source": [
    "To **sort on multiple columns**, provide a _list of column labels_:"
   ]
  },
  {
   "cell_type": "code",
   "execution_count": null,
   "metadata": {},
   "outputs": [],
   "source": [
    "country_data.sort_values(by=['continent', 'name'])"
   ]
  },
  {
   "cell_type": "markdown",
   "metadata": {},
   "source": [
    "As you can see, the index (left-most column) labels are sorted along as well.\n",
    "If you want to have a new index for the result, in sorted order,\n",
    "then you can use the function **`reset_index()`**.\n",
    "The old index is preserved as well in the column labeled `'index'`.\n",
    "\n",
    "Let's sort the country data by _population_,\n",
    "reset the index, and assign the result to variable `country_data_sorted_by_pop`:"
   ]
  },
  {
   "cell_type": "code",
   "execution_count": null,
   "metadata": {},
   "outputs": [],
   "source": [
    "country_data_sorted_by_pop = country_data.sort_values(by='population', ascending=False).reset_index()\n",
    "country_data_sorted_by_pop"
   ]
  },
  {
   "cell_type": "markdown",
   "metadata": {},
   "source": [
    "### Computing values from a `DataFrame`\n",
    "\n",
    "You can apply **arithmetic operations** on entire data frames or series,\n",
    "such as selected columns.\n",
    "\n",
    "Let's calculate the _population density_ (_population_ divided by _area_) for each country, \n",
    "and **add a new column** with the computed density values.  \n",
    "We put it in a new column labeled `'density'` as follows:"
   ]
  },
  {
   "cell_type": "code",
   "execution_count": null,
   "metadata": {},
   "outputs": [],
   "source": [
    "country_data['density'] = country_data['population'] / country_data['area']\n",
    "country_data.head()"
   ]
  },
  {
   "cell_type": "markdown",
   "metadata": {},
   "source": [
    "### Exercise <span class=\"exercise\">3.a</span>\n",
    "\n",
    "Add a new column labeled `specific_area` with the _specific area_\n",
    "(_area_ divided by _population_) **expressed in $\\mathrm{m}^2$ per person**,\n",
    "and show the first five rows of the data frame.\n",
    "\n",
    "Hint: The default value of `head()` is five."
   ]
  },
  {
   "cell_type": "code",
   "execution_count": null,
   "metadata": {},
   "outputs": [],
   "source": [
    "#// BEGIN_TODO [EDA_3a] Add 'specific_area' column (1 point)\n",
    "#// END_TODO [EDA_3a]"
   ]
  },
  {
   "cell_type": "markdown",
   "metadata": {},
   "source": [
    "### Exercise <span class=\"exercise\">3.b</span>\n",
    "\n",
    "Show the result of sorting `country_data` in _descending_ order on _density_:"
   ]
  },
  {
   "cell_type": "code",
   "execution_count": null,
   "metadata": {
    "scrolled": true
   },
   "outputs": [],
   "source": [
    "#// BEGIN_TODO [EDA_3b] Sort on density in descending order (1 point)\n",
    "#// END_TODO [EDA_3b]"
   ]
  },
  {
   "cell_type": "markdown",
   "metadata": {},
   "source": [
    "### Boolean masks\n",
    "\n",
    "Such computations can also be used to calculate boolean values.\n",
    "For instance, let's compute which countries are in _Europe_.  \n",
    "We assign it to variable `countries_in_EU` for later use."
   ]
  },
  {
   "cell_type": "code",
   "execution_count": null,
   "metadata": {},
   "outputs": [],
   "source": [
    "countries_in_EU = country_data['continent'] == 'EU'\n",
    "countries_in_EU"
   ]
  },
  {
   "cell_type": "markdown",
   "metadata": {},
   "source": [
    "This may not seem very useful, but wait and see.\n",
    "\n",
    "Such a column of boolean values is also called a **boolean mask**.\n",
    "It can be used to select rows,\n",
    "as explained next."
   ]
  },
  {
   "cell_type": "markdown",
   "metadata": {},
   "source": [
    "### Exercise <span class=\"exercise\">3.c</span>\n",
    "\n",
    "Compute a boolean mask that is `True` for those rows that have a _population_\n",
    "larger than 100 million.\n",
    "Assign it to the variable `large_population`."
   ]
  },
  {
   "cell_type": "code",
   "execution_count": null,
   "metadata": {},
   "outputs": [],
   "source": [
    "#// BEGIN_TODO [EDA_3c] Boolean mask for population larger than 100 million (1 point)\n",
    "#// END_TODO [EDA_3c]\n",
    "\n",
    "large_population"
   ]
  },
  {
   "cell_type": "markdown",
   "metadata": {},
   "source": [
    "### Selecting rows by boolean masks\n",
    "\n",
    "A **boolean mask** can be used to select those rows\n",
    "for which the mask contains the value `True`.\n",
    "This is done by using the boolean mask as index of the data frame.\n",
    "\n",
    "So, let's find those countries in _Europe_:"
   ]
  },
  {
   "cell_type": "code",
   "execution_count": null,
   "metadata": {},
   "outputs": [],
   "source": [
    "country_data[countries_in_EU]"
   ]
  },
  {
   "cell_type": "markdown",
   "metadata": {},
   "source": [
    "And here is the data for the _Netherlands_,\n",
    "knowing that is has _top-level domain_ `.nl`:"
   ]
  },
  {
   "cell_type": "code",
   "execution_count": null,
   "metadata": {},
   "outputs": [],
   "source": [
    "country_data[country_data['tld'] == '.nl']"
   ]
  },
  {
   "cell_type": "markdown",
   "metadata": {},
   "source": [
    "The `Series` function **`isnull()`** can be used to create a **boolean mask\n",
    "for missing values** (these are also known as **not available** (na) or **null values**).\n",
    "\n",
    "Which countries don't have a _top-level domain_:"
   ]
  },
  {
   "cell_type": "code",
   "execution_count": null,
   "metadata": {},
   "outputs": [],
   "source": [
    "country_data[country_data['tld'].isnull()]"
   ]
  },
  {
   "cell_type": "markdown",
   "metadata": {},
   "source": [
    "Boolean masks can be **combined** into more complex boolean conditions using the following operators:\n",
    "\n",
    "* **`&`** for 'and'\n",
    "* **`|`** for 'or'\n",
    "* **`~`** for 'not'\n",
    "\n",
    "These bind stronger than comparison operators\n",
    "(use parenthesis to evaluate comparisons first; see next example)."
   ]
  },
  {
   "cell_type": "markdown",
   "metadata": {},
   "source": [
    "Let's show data for contries with a _population_ less than one million and\n",
    "an _area_ more than one hundred thousand square kilometer:"
   ]
  },
  {
   "cell_type": "code",
   "execution_count": null,
   "metadata": {},
   "outputs": [],
   "source": [
    "country_data[(country_data['population'] < 1000000) & (country_data['area'] > 100000)]"
   ]
  },
  {
   "cell_type": "markdown",
   "metadata": {},
   "source": [
    "### Exercise <span class=\"exercise\">3.d</span>\n",
    "\n",
    "Show data for those countries in _Europe_ that have a _population_ between ten and twenty million.  \n",
    "Hint: First compute three separate boolean masks:\n",
    "\n",
    "* `countries_in_EU` for 'in Europe'\n",
    "* `pop_more_10M` for 'population at least ten million'\n",
    "* `pop_less_20M` for 'population at most twenty million'\n",
    "\n",
    "then combine them into one boolean mask using `&`."
   ]
  },
  {
   "cell_type": "code",
   "execution_count": null,
   "metadata": {},
   "outputs": [],
   "source": [
    "#// BEGIN_TODO [EDA_3d] Population between ten and twenty million (1 point)\n",
    "#// END_TODO [EDA_3d]"
   ]
  },
  {
   "cell_type": "markdown",
   "metadata": {},
   "source": [
    "###  Grouping rows in a `DataFrame`"
   ]
  },
  {
   "cell_type": "markdown",
   "metadata": {},
   "source": [
    "By sorting a data frame,\n",
    "you can bring items with the same value together.\n",
    "But this is not good enough to gather statistics\n",
    "about groups of equal values.\n",
    "\n",
    "Take for instance the country data.\n",
    "What about total _population_ and _area_ per _continent_?\n",
    "\n",
    "That is where **grouping** comes in.\n",
    "First, we create a so-called `GroupBy` object\n",
    "from the data frame,\n",
    "using the function **`groupby()`**\n",
    "with the column label(s) to group by as argument.\n",
    "\n",
    "This is how you group the country data by _continent_,\n",
    "and assign the `GroupBy` object to variable `grouped`."
   ]
  },
  {
   "cell_type": "code",
   "execution_count": null,
   "metadata": {},
   "outputs": [],
   "source": [
    "grouped = country_data.groupby('continent')"
   ]
  },
  {
   "cell_type": "markdown",
   "metadata": {},
   "source": [
    "The **`groups`** attribute of the `GroupBy` object\n",
    "shows for each continent which rows concern that continent:"
   ]
  },
  {
   "cell_type": "code",
   "execution_count": null,
   "metadata": {},
   "outputs": [],
   "source": [
    "grouped.groups"
   ]
  },
  {
   "cell_type": "markdown",
   "metadata": {},
   "source": [
    "> Note that Australia and New Zealand are apparently put under Oceania,\n",
    "> since there is no separate continent `AU`."
   ]
  },
  {
   "cell_type": "markdown",
   "metadata": {},
   "source": [
    "The `GroupBy` object can be treated like a `DataFrame` in a number of ways.\n",
    "\n",
    "For instance, this is how you get the maximum density per _continent_:"
   ]
  },
  {
   "cell_type": "code",
   "execution_count": null,
   "metadata": {},
   "outputs": [],
   "source": [
    "grouped['density'].max()"
   ]
  },
  {
   "cell_type": "markdown",
   "metadata": {},
   "source": [
    "And this is how you get total _population_ and _area_ per _continent_:"
   ]
  },
  {
   "cell_type": "code",
   "execution_count": null,
   "metadata": {},
   "outputs": [],
   "source": [
    "grouped[['population', 'area']].sum()"
   ]
  },
  {
   "cell_type": "markdown",
   "metadata": {},
   "source": [
    "### Exercise <span class=\"exercise\">3.e</span>\n",
    "\n",
    "Show the summary statistics for _population_ per _continent_ (you can reuse the variable `grouped` introduced before)."
   ]
  },
  {
   "cell_type": "code",
   "execution_count": null,
   "metadata": {},
   "outputs": [],
   "source": [
    "#// BEGIN_TODO [EDA_3e] Summary statistics for population per continent (1 point)\n",
    "#// END_TODO [EDA_3e]"
   ]
  },
  {
   "cell_type": "markdown",
   "metadata": {},
   "source": [
    "### Deleting rows or columns from a `DataFrame`\n",
    "\n",
    "To delete one or more rows or columns from `DataFrame df`\n",
    "use the data frame function **`df.drop()`**.\n",
    "\n",
    "* **`df.drop(row)`**\n",
    "* **`df.drop(list_of_rows)`**\n",
    "* **`df.drop(column, axis=1)`**\n",
    "* **`df.drop(list_columns, axis=1)`**\n",
    "\n",
    "This returns a _new data frame_, with the specified rows or columns removed.\n",
    "\n",
    "The parameter `axis` indicates along which axis to drop.\n",
    "The default is `axis=0`, to drop rows.\n",
    "\n",
    "For example, given the following data frame"
   ]
  },
  {
   "cell_type": "code",
   "execution_count": null,
   "metadata": {},
   "outputs": [],
   "source": [
    "df = pd.DataFrame({'A': [1, 2, 3, 4], 'B': ['one', 'two', 'three', 'four'], 'C': [False, True, False, True]})\n",
    "df"
   ]
  },
  {
   "cell_type": "markdown",
   "metadata": {},
   "source": [
    "You can drop the row with index label 1 (i.e. the second row):"
   ]
  },
  {
   "cell_type": "code",
   "execution_count": null,
   "metadata": {},
   "outputs": [],
   "source": [
    "df.drop(1)"
   ]
  },
  {
   "cell_type": "markdown",
   "metadata": {},
   "source": [
    "You can drop the column with label 'C':"
   ]
  },
  {
   "cell_type": "code",
   "execution_count": null,
   "metadata": {},
   "outputs": [],
   "source": [
    "df.drop('C', axis=1)"
   ]
  },
  {
   "cell_type": "markdown",
   "metadata": {},
   "source": [
    "You can also **drop rows based on a condition** using `drop()`,\n",
    "by cleverly combining\n",
    "\n",
    "* selection with a boolean mask and\n",
    "* the `index` attribute:\n",
    "\n",
    "```python\n",
    "df.drop(df[boolean_mask].index)\n",
    "```\n",
    "\n",
    "For example, you can drop countries in Europe from the `country_data` data frame:"
   ]
  },
  {
   "cell_type": "code",
   "execution_count": null,
   "metadata": {},
   "outputs": [],
   "source": [
    "country_data.drop(country_data[countries_in_EU].index)"
   ]
  },
  {
   "cell_type": "markdown",
   "metadata": {},
   "source": [
    "### Persisting the modifications\n",
    "\n",
    "The data frame functions that we have discussed so far (`sort_values(), head(), drop()`) return a _new_ data frame, just like the `copy()` method we have seen before. To store the results of any modifications to a data frame we can assign the result to a new variable and then work on that variable.\n",
    "\n",
    "For example, the `drop()` function will return a new data frame:"
   ]
  },
  {
   "cell_type": "code",
   "execution_count": null,
   "metadata": {},
   "outputs": [],
   "source": [
    "df_drop = df.drop('C', axis=1)\n",
    "df_drop"
   ]
  },
  {
   "cell_type": "markdown",
   "metadata": {},
   "source": [
    "The original data frame `df` is not affected by the dropping:"
   ]
  },
  {
   "cell_type": "code",
   "execution_count": null,
   "metadata": {},
   "outputs": [],
   "source": [
    "df"
   ]
  },
  {
   "cell_type": "markdown",
   "metadata": {},
   "source": [
    "Moreover, any modifications to `df_drop` will not affect `df`:"
   ]
  },
  {
   "cell_type": "code",
   "execution_count": null,
   "metadata": {},
   "outputs": [],
   "source": [
    "df_drop.loc[1, 'B'] = 'EIGHT'\n",
    "df_drop"
   ]
  },
  {
   "cell_type": "code",
   "execution_count": null,
   "metadata": {},
   "outputs": [],
   "source": [
    "df"
   ]
  },
  {
   "cell_type": "markdown",
   "metadata": {},
   "source": [
    "#### The `inplace` argument\n",
    "\n",
    "For many data frame methods you can supply the extra argument **`inplace=True`**, to store the modifications in the target data frame. However, this is usually not recommended; it is often better to assign the result to a new variable."
   ]
  },
  {
   "cell_type": "code",
   "execution_count": null,
   "metadata": {},
   "outputs": [],
   "source": [
    "df.drop([1, 3], inplace=True)  # drop rows with index labels 1 and 3, modifying df in place\n",
    "df"
   ]
  },
  {
   "cell_type": "markdown",
   "metadata": {},
   "source": [
    "## <span class=\"section\">4.</span> Plotting a `DataFrame`"
   ]
  },
  {
   "cell_type": "markdown",
   "metadata": {},
   "source": [
    "Various plots can be made directly from a `DataFrame` or `Series` object.\n",
    "\n",
    "First, we\n",
    "\n",
    "* import the underlying plotting libraries **Matplotlib** and **Seaborn**,\n",
    "* issue the command **`%matplotlib inline`**\n",
    "    to make plots appear inside the notebook,\n",
    "* and configure some parameters (see the comments for details)."
   ]
  },
  {
   "cell_type": "code",
   "execution_count": null,
   "metadata": {},
   "outputs": [],
   "source": [
    "# next command ensures that plots appear inside the notebook\n",
    "%matplotlib inline\n",
    "import matplotlib.pyplot as plt\n",
    "import seaborn as sns\n",
    "sns.set()  # set Seaborn defaults\n",
    "plt.rcParams['figure.figsize'] = 10, 5  # default hor./vert. size of plots, in inches\n",
    "plt.rcParams['lines.markeredgewidth'] = 1  # to fix issue with seaborn box plots; needed after import seaborn"
   ]
  },
  {
   "cell_type": "markdown",
   "metadata": {},
   "source": [
    "> NOTE: This section presents a brief overview of plotting data for a quick exploration. More advanced plotting and annotation methods that are needed for communicating your data analysis with others will be addressed in _Exercises - VIS_."
   ]
  },
  {
   "cell_type": "markdown",
   "metadata": {},
   "source": [
    "The general function to make a plot for a `DataFrame df` is\n",
    "\n",
    "* **`df.plot(kind='...', ...)`**\n",
    "\n",
    "where the following kinds of plots are supported.\n",
    "\n",
    "* **`'line'`** : default\n",
    "* **`'area'`** : like `'line'`, but with area below line filled in\n",
    "* **`'bar'`** : vertical bar plot, with separated bars\n",
    "* **`'barh'`** : horizontal bar plot, with separated bars\n",
    "* **`'hist'`** : histogram, with automatic binning; use `bins=n` to set the number of bins to `n`\n",
    "* **`'box'`** : vertical box (and whisker) plot, with outliers\n",
    "* **`'density'`** : density plot (a kind of continuous histogram)\n",
    "* **`'scatter'`** : scatter plot\n",
    "\n",
    "All of these plots, **except `'scatter`'**, apply to `Series` objects as well.\n",
    "\n",
    "When used on a `DataFrame` object, all (numeric) columns are plotted,\n",
    "and a **legend** is included.\n",
    "\n",
    "The extra arguments are mostly irrelevant in this lesson;\n",
    "the ones that are relevant will be discussed below.\n",
    "\n",
    "For **box plots** of `DataFrame` objects, there is a special variant:\n",
    "\n",
    "* **`df.boxplot(column=..., by=...)`** :\n",
    "    side-by-side box plots for given column(s), grouped by given column(s)\n",
    "\n",
    "In this lesson, we will stick to default plotting behavior,\n",
    "which is good enough for _personal plots_.\n",
    "\n",
    "Remember that you can get built-in help with `?`.  \n",
    "Execute the following cell to get built-in help for the Pandas plotting function\n",
    "(most of the details are irrelevant for this lesson):"
   ]
  },
  {
   "cell_type": "code",
   "execution_count": null,
   "metadata": {},
   "outputs": [],
   "source": [
    "df.plot?"
   ]
  },
  {
   "cell_type": "markdown",
   "metadata": {},
   "source": [
    "### Line plot\n",
    "\n",
    "We begin with a **line plot** of the  _population_ per country.  \n",
    "Note that in this plot, the x-axis has the row indices.\n",
    "Thus, the countries are ordered as in the original data file."
   ]
  },
  {
   "cell_type": "code",
   "execution_count": null,
   "metadata": {},
   "outputs": [],
   "source": [
    "country_data['population'].plot();"
   ]
  },
  {
   "cell_type": "markdown",
   "metadata": {},
   "source": [
    "The semicolon ('**`;`**') on the last line\n",
    "suppresses the textual output (which is not relevant for us).\n",
    "\n",
    "We can plot the _population_ in descending order,\n",
    "by using the earlier computed `country_data_sorted_by_pop`:"
   ]
  },
  {
   "cell_type": "code",
   "execution_count": null,
   "metadata": {},
   "outputs": [],
   "source": [
    "country_data_sorted_by_pop['population'].plot();"
   ]
  },
  {
   "cell_type": "markdown",
   "metadata": {},
   "source": [
    "### Area plot\n",
    "\n",
    "Now, the same plots as **area plot**:"
   ]
  },
  {
   "cell_type": "code",
   "execution_count": null,
   "metadata": {},
   "outputs": [],
   "source": [
    "country_data['population'].plot(kind='area');"
   ]
  },
  {
   "cell_type": "code",
   "execution_count": null,
   "metadata": {},
   "outputs": [],
   "source": [
    "country_data_sorted_by_pop['population'].plot(kind='area');"
   ]
  },
  {
   "cell_type": "markdown",
   "metadata": {},
   "source": [
    "### Dot plot\n",
    "\n",
    "A **dot plot** is obtained by creating a _line plot_ where the _marker_ is set to dots (**`marker='o'`**) and the lines are hidden (**`linestyle=''`**):"
   ]
  },
  {
   "cell_type": "code",
   "execution_count": null,
   "metadata": {},
   "outputs": [],
   "source": [
    "country_data['population'].plot(marker=\"o\", linestyle='');"
   ]
  },
  {
   "cell_type": "markdown",
   "metadata": {},
   "source": [
    "### Histogram\n",
    "\n",
    "We plot a **histogram** for the _population_ in _Europe_,\n",
    "using the default number of bins.  \n",
    "First, we select the relevant data,\n",
    "reusing the boolean mask `countries_in_EU`\n",
    "(this results in a `DataFrame` object,\n",
    "because of the double square brackets around `'population'`)."
   ]
  },
  {
   "cell_type": "code",
   "execution_count": null,
   "metadata": {},
   "outputs": [],
   "source": [
    "country_data[countries_in_EU][['population']].plot(kind='hist');"
   ]
  },
  {
   "cell_type": "markdown",
   "metadata": {},
   "source": [
    "When plotting a single series of this data frame,\n",
    "the histogram will not include a legend\n",
    "(now there are single square brackets around `'population'`):"
   ]
  },
  {
   "cell_type": "code",
   "execution_count": null,
   "metadata": {},
   "outputs": [],
   "source": [
    "country_data[countries_in_EU]['population'].plot(kind='hist');"
   ]
  },
  {
   "cell_type": "markdown",
   "metadata": {},
   "source": [
    "Next, we plot a **histogram** for this data,\n",
    "using 20 bins (`bins=20`), and normalizing the total area to one (`normed=True`):"
   ]
  },
  {
   "cell_type": "code",
   "execution_count": null,
   "metadata": {},
   "outputs": [],
   "source": [
    "country_data[countries_in_EU][['population']].plot(kind='hist', bins=20, normed=True);"
   ]
  },
  {
   "cell_type": "markdown",
   "metadata": {},
   "source": [
    "### Density plot\n",
    "\n",
    "A **density plot** (a kind of continuous histogram) for the same data:"
   ]
  },
  {
   "cell_type": "code",
   "execution_count": null,
   "metadata": {},
   "outputs": [],
   "source": [
    "country_data[countries_in_EU][['population']].plot(kind='density');"
   ]
  },
  {
   "cell_type": "markdown",
   "metadata": {},
   "source": [
    ">NOTE: The contribution of each value is smeared out and integrated.  \n",
    "> Of course, there are no negative populations."
   ]
  },
  {
   "cell_type": "markdown",
   "metadata": {},
   "source": [
    "### Box plot\n",
    "\n",
    "A **box plot** for the _population_\n",
    "(note the **outliers**):"
   ]
  },
  {
   "cell_type": "code",
   "execution_count": null,
   "metadata": {},
   "outputs": [],
   "source": [
    "country_data[countries_in_EU][['population']].plot(kind='box');"
   ]
  },
  {
   "cell_type": "markdown",
   "metadata": {},
   "source": [
    "A **box plot** for the _population_ **grouped by** _continent_:"
   ]
  },
  {
   "cell_type": "code",
   "execution_count": null,
   "metadata": {},
   "outputs": [],
   "source": [
    "country_data.boxplot(column='population', by='continent');"
   ]
  },
  {
   "cell_type": "markdown",
   "metadata": {},
   "source": [
    "> Note: if you receive a `FutureWarning` about `reshape` being deprecated, you can safely ignore it."
   ]
  },
  {
   "cell_type": "markdown",
   "metadata": {},
   "source": [
    "### Bar plot\n",
    "\n",
    "A **bar plot** for the _number of countries_ per _continent_\n",
    "can be obtained via **grouping**.  \n",
    "Recall that `grouped` was defined earlier\n",
    "to capture the grouping of country data per continent."
   ]
  },
  {
   "cell_type": "code",
   "execution_count": null,
   "metadata": {},
   "outputs": [],
   "source": [
    "grouped['continent'].count().plot(kind='bar');"
   ]
  },
  {
   "cell_type": "markdown",
   "metadata": {},
   "source": [
    "A **bar plot** for total _population_ per _continent_,\n",
    "again based on the grouping computed earlier:"
   ]
  },
  {
   "cell_type": "code",
   "execution_count": null,
   "metadata": {},
   "outputs": [],
   "source": [
    "grouped['population'].sum().plot(kind='bar');"
   ]
  },
  {
   "cell_type": "markdown",
   "metadata": {},
   "source": [
    "### Scatter plot\n",
    "\n",
    "A **scatter plot** that plots _area_ against _population_:"
   ]
  },
  {
   "cell_type": "code",
   "execution_count": null,
   "metadata": {},
   "outputs": [],
   "source": [
    "country_data.plot(kind='scatter', x='area', y='population');"
   ]
  },
  {
   "cell_type": "markdown",
   "metadata": {},
   "source": [
    "### Exercise <span class=\"exercise\">4.a</span>\n",
    "\n",
    "Show a dot plot of _area_ per country."
   ]
  },
  {
   "cell_type": "code",
   "execution_count": null,
   "metadata": {},
   "outputs": [],
   "source": [
    "#// BEGIN_TODO [EDA_4a] Dot plot for area per country (1 point)\n",
    "#// END_TODO [EDA_4a]"
   ]
  },
  {
   "cell_type": "markdown",
   "metadata": {},
   "source": [
    "### Exercise <span class=\"exercise\">4.b</span>\n",
    "\n",
    "Show an area plot of the _area_ per country sorted in descending order.  \n",
    "(Hint: First compute country data sorted in descending order by _area_,\n",
    "assigning it to `country_data_sorted_by_area`.  \n",
    "Don't forget to use `.reset_index()`.)"
   ]
  },
  {
   "cell_type": "code",
   "execution_count": null,
   "metadata": {},
   "outputs": [],
   "source": [
    "#// BEGIN_TODO [EDA_4b] Area plot for area per country (1 point)\n",
    "#// END_TODO [EDA_4b]"
   ]
  },
  {
   "cell_type": "markdown",
   "metadata": {},
   "source": [
    "### Exercise <span class=\"exercise\">4.c</span>\n",
    "\n",
    "Show a histogram with 30 bins for the country _area_ in _Europe_.  \n",
    "(Hint: Reuse the boolean mask `countries_in_EU` computed earlier.)"
   ]
  },
  {
   "cell_type": "code",
   "execution_count": null,
   "metadata": {},
   "outputs": [],
   "source": [
    "#// BEGIN_TODO [EDA_4c] Histogram for area per country in Europe (1 point)\n",
    "#// END_TODO [EDA_4c]"
   ]
  },
  {
   "cell_type": "markdown",
   "metadata": {},
   "source": [
    "The resulting histogram is not very informative,\n",
    "illustrating the limitation of histograms.\n",
    "Here, this is caused by one **outlier**.\n",
    "\n",
    "### Exercise <span class=\"exercise\">4.d</span>\n",
    "\n",
    "Define a boolean mask `countries_in_EU_not_RUS` for countries in _Europe_ without _Russia_.  \n",
    "(Hint: Reuse the boolean mask `countries_in_EU`.  \n",
    "The `alpha_3` code of Russia is `RUS`.)"
   ]
  },
  {
   "cell_type": "code",
   "execution_count": null,
   "metadata": {},
   "outputs": [],
   "source": [
    "#// BEGIN_TODO [EDA_4d] Boolean mask for countries in Europe without Russia (1 point)\n",
    "#// END_TODO [EDA_4d]"
   ]
  },
  {
   "cell_type": "markdown",
   "metadata": {},
   "source": [
    "### Exercise <span class=\"exercise\">4.e</span>\n",
    "\n",
    "Show a histogram with 30 bins for the country _area_ in _Europe_ without _Russia_.  \n",
    "(Hint: Reuse the boolean mask `countries_in_EU_not_RUS` computed earlier.)"
   ]
  },
  {
   "cell_type": "code",
   "execution_count": null,
   "metadata": {},
   "outputs": [],
   "source": [
    "#// BEGIN_TODO [EDA_4e] Histogram for area per country in Europe (1 point)\n",
    "#// END_TODO [EDA_4e]"
   ]
  },
  {
   "cell_type": "markdown",
   "metadata": {},
   "source": [
    "### Exercise <span class=\"exercise\">4.f</span>\n",
    "\n",
    "Show a density plot for the country _area_ in _Europe_ without _Russia_."
   ]
  },
  {
   "cell_type": "code",
   "execution_count": null,
   "metadata": {},
   "outputs": [],
   "source": [
    "#// BEGIN_TODO [EDA_4f] Density plot for area per country in Europe (1 point)\n",
    "#// END_TODO [EDA_4f]"
   ]
  },
  {
   "cell_type": "markdown",
   "metadata": {},
   "source": [
    "### Exercise <span class=\"exercise\">4.g</span>\n",
    "\n",
    "Show a box plot for the country _area_ in _Europe_ without _Russia_:"
   ]
  },
  {
   "cell_type": "code",
   "execution_count": null,
   "metadata": {},
   "outputs": [],
   "source": [
    "#// BEGIN_TODO [EDA_4g] Box plot for area per country in Europe without Russia (1 point)\n",
    "#// END_TODO [EDA_4g]"
   ]
  },
  {
   "cell_type": "markdown",
   "metadata": {},
   "source": [
    "### Exercise <span class=\"exercise\">4.h</span>\n",
    "\n",
    "A box plot for country _area_ grouped by _continent_:"
   ]
  },
  {
   "cell_type": "code",
   "execution_count": null,
   "metadata": {},
   "outputs": [],
   "source": [
    "#// BEGIN_TODO [EDA_4h] Box plots for country area grouped by continent (1 point)\n",
    "#// END_TODO [EDA_4h]"
   ]
  },
  {
   "cell_type": "markdown",
   "metadata": {},
   "source": [
    "### Exercise <span class=\"exercise\">4.i</span>\n",
    "\n",
    "Show a scatter plot that plots _area_ against _population_\n",
    "for countries in _Europe_ without _Russia_:"
   ]
  },
  {
   "cell_type": "code",
   "execution_count": null,
   "metadata": {},
   "outputs": [],
   "source": [
    "#// BEGIN_TODO [EDA_4i] Scatter plot for area against population for countries in Europe without Russia (1 point)\n",
    "#// END_TODO [EDA_4i]"
   ]
  },
  {
   "cell_type": "markdown",
   "metadata": {},
   "source": [
    "# <span class=\"section\">5.</span> Case study: Speed of light\n",
    "\n",
    "In the 19th century,\n",
    "French physicists Fizeau and Foucault independently invented ways to measure the speed of light.\n",
    "Foucault's method turned out to be the most accurate one.\n",
    "The Foucault method is based on fast rotation mirrors.\n",
    "The American physicists Michelson and Newcomb improved Foucault's method.\n",
    "The data set `light.csv` contains measurements by Newcomb from 1882."
   ]
  },
  {
   "cell_type": "markdown",
   "metadata": {},
   "source": [
    "### Exercise <span class=\"exercise\">5.a</span>: Load the data set\n",
    "\n",
    "Write Python code to load the data set into a Pandas `DataFrame` named `df_light` and show the first 10 rows."
   ]
  },
  {
   "cell_type": "code",
   "execution_count": null,
   "metadata": {
    "scrolled": true
   },
   "outputs": [],
   "source": [
    "file_light = './datasets/light.csv'\n",
    "\n",
    "#// BEGIN_TODO [EDA_5a] Load the data set and show first 10 rows (1 point)\n",
    "#// END_TODO [EDA_5a]"
   ]
  },
  {
   "cell_type": "markdown",
   "metadata": {},
   "source": [
    "### Exercise <span class=\"exercise\">5.b</span>: Summary statistics of raw values\n",
    "\n",
    "Show the summary statistics for the `df_light` data frame."
   ]
  },
  {
   "cell_type": "code",
   "execution_count": null,
   "metadata": {},
   "outputs": [],
   "source": [
    "#// BEGIN_TODO [EDA_5b] Summary statistics (1 point)\n",
    "#// END_TODO [EDA_5b]"
   ]
  },
  {
   "cell_type": "markdown",
   "metadata": {},
   "source": [
    "### Exercise <span class=\"exercise\">5.c</span>: Observation\n",
    "\n",
    "Looking at the summary statistics, what do you observe? Select one of the answers below and assign your answer as string to the variable `stats_observation`, e.g. `stats_observation = 'a'`.\n",
    "\n",
    "a) On average, the values are as expected.\n",
    "\n",
    "b) The mean and the median are equal.\n",
    "\n",
    "c) It is not clear how these values are related to the speed of light, e.g. there are negative values.\n",
    "\n",
    "d) The median is in the middle between the min and max and equal to -2."
   ]
  },
  {
   "cell_type": "code",
   "execution_count": null,
   "metadata": {},
   "outputs": [],
   "source": [
    "#// BEGIN_TODO [EDA_5c] What do you notice? (1 point)\n",
    "#// END_TODO [EDA_5c]\n",
    "\n",
    "stats_observation"
   ]
  },
  {
   "cell_type": "markdown",
   "metadata": {},
   "source": [
    "### Exercise <span class=\"exercise\">5.d</span>: Add column with the decoded speed\n",
    "\n",
    "It turns out that Newcomb coded the measurements to get smaller numbers in his table. The coding of these measurements was as follows:\n",
    "\n",
    "> From the original measurements of time (in microseconds) needed by light to travel a distance of 7442 meters,\n",
    "> first 24.8 was subtracted,\n",
    "> after which the results were multiplied with 1000.\n",
    "\n",
    "Create a new column labeled `\"Speed [km/s]\"` in your data set with the measured light speed in km/s."
   ]
  },
  {
   "cell_type": "code",
   "execution_count": null,
   "metadata": {},
   "outputs": [],
   "source": [
    "#// BEGIN_TODO [EDA_5d] Added column with speed in km/s (1 point)\n",
    "#// END_TODO [EDA_5d]"
   ]
  },
  {
   "cell_type": "markdown",
   "metadata": {},
   "source": [
    "### Exercise <span class=\"exercise\">5.e</span>: Summary statistics of the decoded speed\n",
    "\n",
    "Show the summary statistics for the speed of light in km/s."
   ]
  },
  {
   "cell_type": "code",
   "execution_count": null,
   "metadata": {},
   "outputs": [],
   "source": [
    "#// BEGIN_TODO [EDA_5e] Summary statics of speed (1 point)\n",
    "#// END_TODO [EDA_5e]"
   ]
  },
  {
   "cell_type": "markdown",
   "metadata": {},
   "source": [
    "### Exercise <span class=\"exercise\">5.f</span>: Make a dot plot\n",
    "\n",
    "Make a dot plot of the speed of light in km/s against the observation number (the observations are ordered by time)."
   ]
  },
  {
   "cell_type": "code",
   "execution_count": null,
   "metadata": {},
   "outputs": [],
   "source": [
    "#// BEGIN_TODO [EDA_5f] Plot data against observation number (1 point)\n",
    "#// END_TODO [EDA_5f]"
   ]
  },
  {
   "cell_type": "markdown",
   "metadata": {},
   "source": [
    "### Exercise <span class=\"exercise\">5.g</span>: Remove suspicious rows\n",
    "\n",
    "Clean the data by removing any suspicious observations that you found in the previous question and\n",
    "recompute the summary statistics of the speed of light in km/s\n",
    "without these suspect observations.\n",
    "\n",
    "Store the modified `DataFrame` under the name `df_light_clean`.\n",
    "\n",
    "Hint: You are encouraged to add new markdown and code cells between the marker lines to explain the steps you are taking, e.g. what you define as a suspicious observation."
   ]
  },
  {
   "cell_type": "code",
   "execution_count": null,
   "metadata": {},
   "outputs": [],
   "source": [
    "#// BEGIN_TODO [EDA_5g] Remove suspicious rows (1 point)"
   ]
  },
  {
   "cell_type": "code",
   "execution_count": null,
   "metadata": {},
   "outputs": [],
   "source": []
  },
  {
   "cell_type": "code",
   "execution_count": null,
   "metadata": {},
   "outputs": [],
   "source": [
    "#// END_TODO [EDA_5g]"
   ]
  },
  {
   "cell_type": "markdown",
   "metadata": {},
   "source": [
    "### Exercise <span class=\"exercise\">5.h</span>: Check normality\n",
    "\n",
    "Use appropriate plots to check whether a normal distribution (bell-shaped curve)\n",
    "seems appropriate for the measurements of the speed of light in km/s for the two cases: _original_ data (`df_light`) and _cleaned_ data (`df_light_clean`).\n",
    "\n",
    "Assign your (boolean) answers to the variables `original_speed_is_normal` and `clean_speed_is_normal`. For example, if you think that the distribution of the speed of light in the _original_ data is normal, then assign `original_speed_is_normal = True`, otherwise if you think that it is not normal, assign `original_speed_is_normal = False`. "
   ]
  },
  {
   "cell_type": "code",
   "execution_count": null,
   "metadata": {},
   "outputs": [],
   "source": [
    "#// BEGIN_TODO [EDA_5h] Normality of distribution of the original and cleaned data (1 point)"
   ]
  },
  {
   "cell_type": "code",
   "execution_count": null,
   "metadata": {},
   "outputs": [],
   "source": []
  },
  {
   "cell_type": "code",
   "execution_count": null,
   "metadata": {},
   "outputs": [],
   "source": [
    "#// END_TODO [EDA_5h]\n",
    "\n",
    "original_speed_is_normal, clean_speed_is_normal"
   ]
  },
  {
   "cell_type": "markdown",
   "metadata": {},
   "source": [
    "### Exercise <span class=\"exercise\">5.i</span>: Compare to current estimate\n",
    "\n",
    "Find (using external sources) the current estimate for the speed of light in km/s.\n",
    "Assign this value (in km/s) to the variable `c`. Does this value seem to be consistent with Newcomb's measurements in the _cleaned_ data?\n",
    "\n",
    "Compute the **relative error percentage** of Newcomb's mean value with respect to the current estimate, i.e.\n",
    "\n",
    "$$\n",
    "\\textsf{relative error percentage} = \\frac{(\\textsf{Newcomb's mean value}) - (\\textsf{current estimate})}{\\textsf{current estimate}} \\times 100 \\%\n",
    "$$\n",
    "\n",
    "Assign your computed relative error percentage to the variable `newcomb_rel`.\n",
    "\n",
    "Hint: You are encouraged to add new markdown and code cells as needed between the marker lines."
   ]
  },
  {
   "cell_type": "code",
   "execution_count": null,
   "metadata": {},
   "outputs": [],
   "source": [
    "#// BEGIN_TODO [EDA_5i] Compare to current measurements (2 points)"
   ]
  },
  {
   "cell_type": "code",
   "execution_count": null,
   "metadata": {},
   "outputs": [],
   "source": [
    "#// END_TODO [EDA_5i]\n",
    "c, newcomb_rel"
   ]
  },
  {
   "cell_type": "markdown",
   "metadata": {},
   "source": [
    "---"
   ]
  },
  {
   "cell_type": "code",
   "execution_count": null,
   "metadata": {},
   "outputs": [],
   "source": [
    "# List all defined names\n",
    "%whos"
   ]
  },
  {
   "cell_type": "markdown",
   "metadata": {},
   "source": [
    "---\n",
    "\n",
    "**Fontys Hogescholen ICT** - based on material from **TU/e**. Contact: s.orzan@fontys.nl "
   ]
  },
  {
   "cell_type": "code",
   "execution_count": null,
   "metadata": {},
   "outputs": [],
   "source": []
  }
 ],
 "metadata": {
  "kernelspec": {
   "display_name": "Python 3 (ipykernel)",
   "language": "python",
   "name": "python3"
  },
  "language_info": {
   "codemirror_mode": {
    "name": "ipython",
    "version": 3
   },
   "file_extension": ".py",
   "mimetype": "text/x-python",
   "name": "python",
   "nbconvert_exporter": "python",
   "pygments_lexer": "ipython3",
   "version": "3.10.9"
  },
  "toc": {
   "base_numbering": 1,
   "nav_menu": {
    "height": "228px",
    "width": "252px"
   },
   "number_sections": false,
   "sideBar": true,
   "skip_h1_title": false,
   "title_cell": "Table of Contents",
   "title_sidebar": "Contents",
   "toc_cell": true,
   "toc_position": {},
   "toc_section_display": "block",
   "toc_window_display": true
  }
 },
 "nbformat": 4,
 "nbformat_minor": 2
}
